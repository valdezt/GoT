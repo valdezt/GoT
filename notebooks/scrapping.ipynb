{
 "cells": [
  {
   "cell_type": "markdown",
   "metadata": {
    "colab_type": "text",
    "id": "view-in-github"
   },
   "source": [
    "<a href=\"https://colab.research.google.com/github/shekharkoirala/Game_of_Thrones/blob/master/notebooks/scrapping.ipynb\" target=\"_parent\"><img src=\"https://colab.research.google.com/assets/colab-badge.svg\" alt=\"Open In Colab\"/></a>"
   ]
  },
  {
   "cell_type": "markdown",
   "metadata": {
    "colab_type": "text",
    "id": "oKb0_BeYiR_w"
   },
   "source": [
    "# ***Create data***"
   ]
  },
  {
   "cell_type": "code",
   "execution_count": 1,
   "metadata": {
    "colab": {},
    "colab_type": "code",
    "id": "_LwtqVHuMvGa"
   },
   "outputs": [],
   "source": [
    "import requests\n",
    "import urllib.request\n",
    "import time\n",
    "from bs4 import BeautifulSoup\n",
    "import os"
   ]
  },
  {
   "cell_type": "code",
   "execution_count": 4,
   "metadata": {
    "colab": {},
    "colab_type": "code",
    "id": "-1h9naHDNUbs"
   },
   "outputs": [],
   "source": [
    "import re\n",
    "r = r\"(- )+\"\n",
    "\n",
    "def cleaner(text):\n",
    "  if text:\n",
    "    if re.findall(r, text):\n",
    "      return False\n",
    "    else:\n",
    "      return True\n",
    "    \n",
    "for season in range(2,8):\n",
    "  url = 'https://genius.com/albums/Game-of-thrones/Season-'+str(season+1)+'-scripts'\n",
    "  folder_name =  'season'+str(season+1)\n",
    "  os.mkdir(folder_name)\n",
    "  \n",
    "  response = requests.get(url)\n",
    "  soup = BeautifulSoup(response.text, 'html.parser')\n",
    "\n",
    "  a = soup.findAll(\"a\", {\"class\": \"u-display_block\"})\n",
    "  list_links = [data['href'] for data in a]\n",
    "\n",
    "\n",
    "  for key, link in enumerate(list_links):\n",
    "    url = link\n",
    "    response = requests.get(url)\n",
    "    soup = BeautifulSoup(response.content, 'html.parser')\n",
    "    a = soup.findAll(\"div\", {\"class\": \"lyrics\"})\n",
    "    data = a[0].text.split('\\n')\n",
    "    data  = [text for text in data if cleaner(text)]\n",
    "    with open(folder_name +\"/e\"+str(key+1)+\".txt\", \"w\", encoding=\"utf8\") as f:\n",
    "      for text in data:\n",
    "        f.write(text)\n",
    "        f.write(\"\\n\")\n",
    "  "
   ]
  },
  {
   "cell_type": "code",
   "execution_count": 0,
   "metadata": {
    "colab": {},
    "colab_type": "code",
    "id": "Y-z8WtvnX9Gj"
   },
   "outputs": [],
   "source": [
    "\n",
    "folders = ['season' + str(data+1) for data in range(7)]\n",
    "  \n",
    "\n",
    "master_list =[folder+ '/' +file for folder in folders for file in sorted(os.listdir(folder), key=lambda s: int(s[1:-4]))]\n",
    "with open('final_data.txt', 'w') as outfile:\n",
    "    for files in master_list:\n",
    "        with open(files) as infile:\n",
    "            for line in infile:\n",
    "                outfile.write(line)"
   ]
  },
  {
   "cell_type": "code",
   "execution_count": 53,
   "metadata": {
    "colab": {
     "base_uri": "https://localhost:8080/",
     "height": 51
    },
    "colab_type": "code",
    "id": "rfKahqSrZmp3",
    "outputId": "b31e01ae-0ab1-48ea-b8ae-e7fe242147ed"
   },
   "outputs": [
    {
     "name": "stdout",
     "output_type": "stream",
     "text": [
      "final_data.txt\tseason1  season3  season5  season7\n",
      "sample_data\tseason2  season4  season6  test.txt\n"
     ]
    }
   ],
   "source": [
    "!ls"
   ]
  },
  {
   "cell_type": "code",
   "execution_count": 0,
   "metadata": {
    "colab": {},
    "colab_type": "code",
    "id": "OThngnhbia72"
   },
   "outputs": [],
   "source": []
  }
 ],
 "metadata": {
  "colab": {
   "collapsed_sections": [],
   "include_colab_link": true,
   "name": "scrapping.ipynb",
   "provenance": [],
   "version": "0.3.2"
  },
  "kernelspec": {
   "display_name": "Python 3",
   "language": "python",
   "name": "python3"
  },
  "language_info": {
   "codemirror_mode": {
    "name": "ipython",
    "version": 3
   },
   "file_extension": ".py",
   "mimetype": "text/x-python",
   "name": "python",
   "nbconvert_exporter": "python",
   "pygments_lexer": "ipython3",
   "version": "3.7.3"
  }
 },
 "nbformat": 4,
 "nbformat_minor": 1
}
